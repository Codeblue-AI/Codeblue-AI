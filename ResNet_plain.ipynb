{
  "nbformat": 4,
  "nbformat_minor": 0,
  "metadata": {
    "colab": {
      "provenance": [],
      "gpuType": "T4",
      "authorship_tag": "ABX9TyMEnwiNCxY7qlI1RP7gVpN5",
      "include_colab_link": true
    },
    "kernelspec": {
      "name": "python3",
      "display_name": "Python 3"
    },
    "language_info": {
      "name": "python"
    },
    "accelerator": "GPU"
  },
  "cells": [
    {
      "cell_type": "markdown",
      "metadata": {
        "id": "view-in-github",
        "colab_type": "text"
      },
      "source": [
        "<a href=\"https://colab.research.google.com/github/Codeblue-AI/Codeblue-AI/blob/main/ResNet_plain.ipynb\" target=\"_parent\"><img src=\"https://colab.research.google.com/assets/colab-badge.svg\" alt=\"Open In Colab\"/></a>"
      ]
    },
    {
      "cell_type": "code",
      "source": [
        "import torch\n",
        "from torch import nn\n",
        "import torchvision\n",
        "from torchvision import datasets, transforms\n",
        "from torch.utils.data import Dataset, DataLoader\n",
        "import torch.optim as optim\n",
        "\n",
        "import matplotlib.pyplot as plt\n",
        "import numpy as np\n",
        "\n",
        "from tqdm.auto import tqdm"
      ],
      "metadata": {
        "id": "28VzLIKL_qm4"
      },
      "execution_count": null,
      "outputs": []
    },
    {
      "cell_type": "code",
      "source": [
        "classes = ('plane', 'car', 'bird', 'cat',\n",
        "           'deer', 'dog', 'frog', 'horse', 'ship', 'truck')"
      ],
      "metadata": {
        "id": "83tuy6bwN9nw"
      },
      "execution_count": null,
      "outputs": []
    },
    {
      "cell_type": "code",
      "source": [
        "device = 'cuda' if torch.cuda.is_available() else 'cpu'\n",
        "device"
      ],
      "metadata": {
        "id": "kgqXNc39-cCO"
      },
      "execution_count": null,
      "outputs": []
    },
    {
      "cell_type": "code",
      "execution_count": null,
      "metadata": {
        "id": "v7RAXTcx-aZC"
      },
      "outputs": [],
      "source": [
        "class CustomCIFAR10(Dataset) :\n",
        "    def __init__(self, root, train=True, transform=None, download=True) :\n",
        "        self.data = datasets.CIFAR10(root=root, train=train, download=download)\n",
        "        self.transform = transform\n",
        "\n",
        "    def __len__(self) :\n",
        "        return len(self.data)\n",
        "\n",
        "    def __getitem__(self, idx) :\n",
        "        image, label = self.data[idx]\n",
        "        if self.transform :\n",
        "            image = self.transform(image)\n",
        "        return image, label"
      ]
    },
    {
      "cell_type": "code",
      "source": [
        "transform = transforms.Compose([\n",
        "    transforms.ToTensor(),\n",
        "    transforms.Normalize((0.5, 0.5, 0.5), (0.5, 0.5, 0.5))\n",
        "])"
      ],
      "metadata": {
        "id": "vqDBufMk_0CS"
      },
      "execution_count": null,
      "outputs": []
    },
    {
      "cell_type": "code",
      "source": [
        "batch_size = 64\n",
        "train_dataset = CustomCIFAR10(root='./data', train=True, transform=transform)\n",
        "test_dataset = CustomCIFAR10(root='./data', train=False, transform=transform)\n",
        "\n",
        "train_loader = DataLoader(train_dataset, batch_size, shuffle=True)\n",
        "test_loader = DataLoader(test_dataset, batch_size, shuffle=False)\n",
        "\n",
        "images, labels = next(iter(train_loader))\n",
        "print(\"Images batch shape:\", images.shape)\n",
        "print(\"Labels batch shape:\", labels.shape)"
      ],
      "metadata": {
        "id": "LjuzMmDNLtp-"
      },
      "execution_count": null,
      "outputs": []
    },
    {
      "cell_type": "code",
      "source": [
        "def imshow(img) :\n",
        "    img = img / 2 + 0.5\n",
        "    npimg = img.numpy()\n",
        "    plt.figure(figsize=(4,4))\n",
        "    plt.imshow(np.transpose(npimg, (1,2,0)))\n",
        "    plt.axis('off')\n",
        "    plt.show()\n",
        "\n",
        "imshow(torchvision.utils.make_grid(images[:8], nrow=4))\n",
        "print([classes[labels[i]] for i in range(8)])"
      ],
      "metadata": {
        "id": "tgVLXvycNRrV"
      },
      "execution_count": null,
      "outputs": []
    },
    {
      "cell_type": "code",
      "source": [
        "class CIFARModel(nn.Module) :\n",
        "    def __init__(self) :\n",
        "        super(CIFARModel, self).__init__()\n",
        "\n",
        "        self.firstlayer = nn.Sequential(\n",
        "            nn.Conv2d(3,64,3,1,1),\n",
        "            nn.BatchNorm2d(64)\n",
        "        )\n",
        "\n",
        "        self.conv64 = nn.Sequential(\n",
        "            nn.Conv2d(64, 64, 3, 2, 1),\n",
        "            nn.ReLU(),\n",
        "            nn.Conv2d(64, 64, 3, 1, 1),\n",
        "            nn.ReLU()\n",
        "        )\n",
        "        self.conv128 = nn.Sequential(\n",
        "            nn.Conv2d(64, 128, 3, 2, 1),\n",
        "            nn.ReLU(),\n",
        "            nn.Conv2d(128, 128, 3, 1, 1),\n",
        "            nn.ReLU()\n",
        "        )\n",
        "        self.conv256 = nn.Sequential(\n",
        "            nn.Conv2d(128, 256, 3, 2, 1),\n",
        "            nn.ReLU(),\n",
        "            nn.Conv2d(256, 256, 3, 1, 1),\n",
        "            nn.ReLU()\n",
        "        )\n",
        "\n",
        "        self.avgpool = nn.AdaptiveAvgPool2d((1,1))\n",
        "        self.fc = nn.Linear(256, 10)\n",
        "\n",
        "    def forward(self,x) :\n",
        "        # (3,32,32)\n",
        "        # print(\"(3,32,32)\", x.shape)\n",
        "        x = self.firstlayer(x)\n",
        "        # (64,32,32)\n",
        "        # print(\"(64,32,32)\", x.shape)\n",
        "        x = self.conv64(x)\n",
        "        # (64,16,16)\n",
        "        # print(\"(64,16,16)\", x.shape)\n",
        "        x = self.conv128(x)\n",
        "        # (128,8,8)\n",
        "        # print(\"(128,8,8)\", x.shape)\n",
        "        x = self.conv256(x)\n",
        "        # (256,4,4)\n",
        "        # print(\"(256,4,4)\", x.shape)\n",
        "        x = self.avgpool(x)\n",
        "        x = x.squeeze()\n",
        "        # (256)\n",
        "        # print(\"(256)\", x.shape)\n",
        "        x = self.fc(x)\n",
        "        # (10)\n",
        "        # print(\"(10)\", x.shape)\n",
        "\n",
        "        return x\n",
        "\n",
        "model = CIFARModel().to(device)\n",
        "print(model)"
      ],
      "metadata": {
        "id": "lMAGr-2LNG1S"
      },
      "execution_count": null,
      "outputs": []
    },
    {
      "cell_type": "code",
      "source": [
        "criterion = nn.CrossEntropyLoss()\n",
        "opt = optim.Adam(model.parameters(), lr=0.001)"
      ],
      "metadata": {
        "id": "9rfFLSBcINqd"
      },
      "execution_count": null,
      "outputs": []
    },
    {
      "cell_type": "code",
      "source": [
        "epoch_num = 10\n",
        "running_loss = []\n",
        "for epoch in tqdm(range(epoch_num)) :\n",
        "    batch_loss = 0\n",
        "    for batch_idx, samples in tqdm(enumerate(train_loader)) :\n",
        "        x_train, y_train = samples\n",
        "        x_train = x_train.to(device)\n",
        "        y_train = y_train.to(device)\n",
        "        y_pred = model(x_train)\n",
        "        loss = criterion(y_pred, y_train)\n",
        "        batch_loss += loss.item()\n",
        "\n",
        "        opt.zero_grad()\n",
        "        loss.backward()\n",
        "        opt.step()\n",
        "    running_loss.append(batch_loss)\n",
        "    print(f\"Train, {epoch}, {batch_loss}\")\n",
        "\n",
        "plt.plot(running_loss)\n",
        "plt.show()"
      ],
      "metadata": {
        "id": "HMAlYEZhIhby"
      },
      "execution_count": null,
      "outputs": []
    },
    {
      "cell_type": "code",
      "source": [
        "model.eval()\n",
        "correct = 0\n",
        "total = 0\n",
        "\n",
        "with torch.no_grad() :\n",
        "    for images, labels in test_loader :\n",
        "        images,labels = images.to(device), labels.to(device)\n",
        "        outputs = model(images)\n",
        "        _, predicted = torch.max(outputs.data, 1)\n",
        "        total += labels.size(0)\n",
        "        correct += (predicted == labels).sum().item()\n",
        "\n",
        "accuracy = 100 * correct / total\n",
        "print(f'Test Accuracy: {accuracy:.2f}%')"
      ],
      "metadata": {
        "id": "KQy9swtbKGtd"
      },
      "execution_count": null,
      "outputs": []
    },
    {
      "cell_type": "code",
      "source": [
        "import matplotlib.pyplot as plt\n",
        "import numpy as np\n",
        "\n",
        "# CIFAR-10 클래스 이름\n",
        "classes = ('plane', 'car', 'bird', 'cat',\n",
        "           'deer', 'dog', 'frog', 'horse', 'ship', 'truck')\n",
        "\n",
        "dataiter = iter(test_loader)\n",
        "images, labels = next(dataiter)\n",
        "\n",
        "images, labels = images.to(device), labels.to(device)\n",
        "outputs = model(images)\n",
        "_, predicted = torch.max(outputs, 1)\n",
        "\n",
        "imshow(torchvision.utils.make_grid(images[:10].cpu()))\n",
        "print('GroundTruth: ', ' '.join(f'{classes[labels[j]]}' for j in range(10)))\n",
        "print('Predicted:   ', ' '.join(f'{classes[predicted[j]]}' for j in range(10)))\n"
      ],
      "metadata": {
        "id": "fNagKlZNM_Dn"
      },
      "execution_count": null,
      "outputs": []
    }
  ]
}